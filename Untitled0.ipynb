{
  "nbformat": 4,
  "nbformat_minor": 0,
  "metadata": {
    "colab": {
      "name": "Untitled0.ipynb",
      "version": "0.3.2",
      "provenance": [],
      "collapsed_sections": []
    },
    "kernelspec": {
      "name": "python3",
      "display_name": "Python 3"
    }
  },
  "cells": [
    {
      "cell_type": "code",
      "metadata": {
        "id": "sXk8bbjT6iaQ",
        "colab_type": "code",
        "colab": {}
      },
      "source": [
        "import numpy as np\n",
        "from scipy.stats import binom\n",
        "\n",
        "y = np.array([7, 7, 1, 3, 2, 1, 5, 1, 4, 0, 2, 3, 3, 1, 2, 2, 3, 1, 4, 0, 8, 3, 5, 3, 0, 0, 7, 1, 1, 3, 1, 3, 2, 4, 1, 6, 2, 2, 4, 1, 3, 1, 1, 2, 7, 3, 3, 2, 2, 2])"
      ],
      "execution_count": 0,
      "outputs": []
    },
    {
      "cell_type": "code",
      "metadata": {
        "id": "1PTJWKF48Q1i",
        "colab_type": "code",
        "colab": {}
      },
      "source": [
        "def Estep(data, M, m1, m2, pi1):\n",
        "  pi2 = 1 - pi1\n",
        "  ri1 = binom.pmf(data, M, m1) * pi1 / (binom.pmf(data, M, m1) * pi1 + binom.pmf(data, M, m2) * pi2)\n",
        "  ri2 = binom.pmf(data, M, m2) * pi2 / (binom.pmf(data, M, m1) * pi1 + binom.pmf(data, M, m2) * pi2)\n",
        "  return ri1, ri2"
      ],
      "execution_count": 0,
      "outputs": []
    },
    {
      "cell_type": "code",
      "metadata": {
        "id": "5_IGv0C1-Loa",
        "colab_type": "code",
        "colab": {}
      },
      "source": [
        "def Mstep(data, M, r1, r2):\n",
        "  pi1_1 = sum(r1) / len(data)\n",
        "  pi2_1 = 1 - pi1_1\n",
        "  m1_1 = sum(data * r1) / (M * sum(r1))\n",
        "  m2_1 = sum(data * r2) / (M * sum(r2))\n",
        "  return pi1_1, pi2_1, m1_1, m2_1"
      ],
      "execution_count": 0,
      "outputs": []
    },
    {
      "cell_type": "code",
      "metadata": {
        "id": "1JPKaBY-_RxB",
        "colab_type": "code",
        "colab": {}
      },
      "source": [
        "def EM(data, M = 10, m1 = None, m2 = None, pi1 = None, eps = .0005):\n",
        "  m1 = m1 or np.random.random()\n",
        "  m2 = m2 or np.random.random()\n",
        "  pi1 = pi1 or np.random.random()\n",
        "  pi2 = 1 - pi1\n",
        "  k = 0\n",
        "  print(\"Start: pi1 = %0.3f, pi2 = %0.3f, m1 = %0.3f, m2 = %0.3f\\n\" % (pi1, pi2, m1, m2))\n",
        "  print(\"№\\t  pi1      pi2      m1        m2\")\n",
        "  while True:\n",
        "    r1, r2 = Estep(data, M, m1, m2, pi1)\n",
        "    pi1_1, pi2_1, m1_1, m2_1 = Mstep(data, M, r1, r2)\n",
        "    print(\"#%d:\\t %0.3f    %0.3f    %0.3f    %0.3f\" % (k, pi1_1, pi2_1, m1_1, m2_1))\n",
        "    k = k + 1\n",
        "    if np.sqrt((m1 - m1_1)**2 + (m2 - m2_1)**2 + 2 * (pi1 - pi1_1)**2) < eps:\n",
        "      break\n",
        "      \n",
        "    m1, m2, pi1 = m1_1, m2_1, pi1_1\n",
        "  print(\"!! %d iterations !!\" % k)"
      ],
      "execution_count": 0,
      "outputs": []
    },
    {
      "cell_type": "code",
      "metadata": {
        "id": "rEgKrZWl_VUx",
        "colab_type": "code",
        "colab": {
          "base_uri": "https://localhost:8080/",
          "height": 680
        },
        "outputId": "816f8f2b-5bb7-4672-eebb-5c5a1e722886"
      },
      "source": [
        "EM(y)"
      ],
      "execution_count": 47,
      "outputs": [
        {
          "output_type": "stream",
          "text": [
            "Start: pi1 = 0.721, pi2 = 0.279, m1 = 0.293, m2 = 0.287\n",
            "\n",
            "№\t  pi1      pi2      m1        m2\n",
            "#0:\t 0.719    0.281    0.273    0.262\n",
            "#1:\t 0.719    0.281    0.276    0.254\n",
            "#2:\t 0.718    0.282    0.282    0.239\n",
            "#3:\t 0.713    0.287    0.292    0.214\n",
            "#4:\t 0.700    0.300    0.308    0.181\n",
            "#5:\t 0.672    0.328    0.327    0.153\n",
            "#6:\t 0.638    0.362    0.344    0.139\n",
            "#7:\t 0.604    0.396    0.359    0.135\n",
            "#8:\t 0.571    0.429    0.370    0.136\n",
            "#9:\t 0.538    0.462    0.381    0.140\n",
            "#10:\t 0.506    0.494    0.392    0.145\n",
            "#11:\t 0.474    0.526    0.404    0.150\n",
            "#12:\t 0.441    0.559    0.416    0.155\n",
            "#13:\t 0.409    0.591    0.429    0.159\n",
            "#14:\t 0.378    0.622    0.444    0.164\n",
            "#15:\t 0.347    0.653    0.460    0.169\n",
            "#16:\t 0.318    0.682    0.477    0.173\n",
            "#17:\t 0.290    0.710    0.496    0.178\n",
            "#18:\t 0.265    0.735    0.515    0.182\n",
            "#19:\t 0.241    0.759    0.535    0.186\n",
            "#20:\t 0.221    0.779    0.554    0.189\n",
            "#21:\t 0.204    0.796    0.572    0.192\n",
            "#22:\t 0.191    0.809    0.588    0.195\n",
            "#23:\t 0.180    0.820    0.601    0.197\n",
            "#24:\t 0.172    0.828    0.612    0.199\n",
            "#25:\t 0.166    0.834    0.620    0.200\n",
            "#26:\t 0.162    0.838    0.626    0.201\n",
            "#27:\t 0.159    0.841    0.630    0.202\n",
            "#28:\t 0.157    0.843    0.633    0.203\n",
            "#29:\t 0.155    0.845    0.635    0.203\n",
            "#30:\t 0.154    0.846    0.636    0.203\n",
            "#31:\t 0.154    0.846    0.637    0.203\n",
            "#32:\t 0.153    0.847    0.638    0.203\n",
            "#33:\t 0.153    0.847    0.638    0.203\n",
            "#34:\t 0.153    0.847    0.638    0.204\n",
            "!! 35 iterations !!\n"
          ],
          "name": "stdout"
        }
      ]
    }
  ]
}