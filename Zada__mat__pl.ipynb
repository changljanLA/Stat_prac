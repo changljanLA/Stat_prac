import numpy as np
import matplotlib.pyplot as plt

data = np.loadtxt('populations.txt')
year, hare, lynx, carrot = data.T

1) Plot the populations for the years in the period. Add legend and axis labels to the plot.   
plt.grid()
plt.plot(year, hare, label = 'hare')
plt.plot(year, lynx, label = 'lynx')
plt.plot(year, carrot, label = 'carrot')
plt.xlabel('year')
plt.ylabel('population')
plt.legend(loc='upper center', bbox_to_anchor=(0.5, -0.05))
