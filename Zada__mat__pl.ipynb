import numpy as np
import matplotlib as plt

data = np.loadtxt('populations.txt)
