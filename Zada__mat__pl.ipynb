import numpy as np
import matplotlib.pyplot as plt

data = np.loadtxt('populations.txt')
data
