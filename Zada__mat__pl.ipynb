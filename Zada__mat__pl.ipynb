import numpy as np
import matplotlib.pyplot as plt

data = np.loadtxt('populations.txt')
year, hare, lynx, carrot = data.T

1) Plot the populations for the years in the period. Add legend and axis labels to the plot.   

plt.grid()
plt.plot(year, hare, label = 'hare')
plt.plot(year, lynx, label = 'lynx')
plt.plot(year, carrot, label = 'carrot')
plt.xlabel('year')
plt.ylabel('population')
plt.legend(loc='upper center', bbox_to_anchor=(0.5, -0.05))

2) Assuming total population of hares and lynxes is 100%, plot stacked bar graph showing ratio of each species for the years in the period.

width = 0.35
p1 = plt.bar(year, hare/(hare + lynx)*100, width)
p1 = plt.bar(year, lynx/(hare + lynx)*100, width, bottom=hare/(hare + lynx)*100)
plt.xlabel('year')
plt.ylabel('per cent')
plt.legend((p1[0], p2[0]), ('hare', 'lynx')

3) Find the mean and std of the populations of each species. 
Plot the historgam of population for each species and show mean values with vertical line. Arrange 3 subplots in a row.

hare_mean = np.mean(hare)
lynx_mean = np.mean(lynx)
carrot_mean = np.mean(carrot)
hare_std = np.std(hare)
lynx_std = np.std(lynx)
carrot_std = np.std(carrot)


